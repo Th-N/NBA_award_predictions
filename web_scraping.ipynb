{
 "cells": [
  {
   "attachments": {},
   "cell_type": "markdown",
   "metadata": {},
   "source": [
    "### Importing necessary packages and libraries"
   ]
  },
  {
   "cell_type": "code",
   "execution_count": 1,
   "metadata": {},
   "outputs": [],
   "source": [
    "from selenium import webdriver \n",
    "from selenium.webdriver.common.by import By\n",
    "from bs4 import BeautifulSoup\n",
    "from bs4 import Comment\n",
    "from pprint import pprint\n",
    "import pandas as pd\n",
    "import numpy as np\n",
    "import seaborn as sns\n",
    "import matplotlib.pyplot as plt\n",
    "import time\n",
    "import requests\n"
   ]
  },
  {
   "attachments": {},
   "cell_type": "markdown",
   "metadata": {},
   "source": [
    "### Using Requests and BeautifulSoup to scrape NBA data for players"
   ]
  },
  {
   "cell_type": "code",
   "execution_count": 43,
   "metadata": {},
   "outputs": [],
   "source": [
    "years = list(range(1984, 2024))\n",
    "ppg_url = \"https://www.basketball-reference.com/leagues/NBA_{}_per_game.html\"\n",
    "advanced_stats_url = \"https://www.basketball-reference.com/leagues/NBA_{}_advanced.html\"\n",
    "standings_url = \"https://www.basketball-reference.com/leagues/NBA_{}.html\"\n"
   ]
  },
  {
   "cell_type": "code",
   "execution_count": 15,
   "metadata": {},
   "outputs": [],
   "source": [
    "# Scrape MVP awards table from 2000-2023 and save as an HTML file\n",
    "for year in years:\n",
    "    base_url = f\"https://www.basketball-reference.com/awards/awards_{year}.html\"\n",
    "    time.sleep(10)\n",
    "    data = requests.get(base_url)\n",
    "\n",
    "    with open(f'MVP_Data/{year}.html', 'w+', encoding=\"utf-8\") as f:\n",
    "        f.write(data.text)\n",
    "    "
   ]
  },
  {
   "attachments": {},
   "cell_type": "markdown",
   "metadata": {},
   "source": [
    "### Extracting MVP candidates from 1984-2023"
   ]
  },
  {
   "cell_type": "code",
   "execution_count": 44,
   "metadata": {},
   "outputs": [],
   "source": [
    "# Open each HTML file, parse out the table, create pandas dataframe\n",
    "mvp_list = []\n",
    "for year in years:\n",
    "    with open(f\"MVP_data/{year}.html\", errors=\"ignore\") as f:\n",
    "        page = f.read()\n",
    "\n",
    "        soup = BeautifulSoup(page, \"html.parser\")\n",
    "\n",
    "        remove_header = soup.find(\"tr\", class_='over_header').decompose()\n",
    "        mvp_table = soup.find(id='mvp')\n",
    "        mvp_df = pd.read_html(str(mvp_table))[0]\n",
    "        mvp_df['Year'] = year\n",
    "        mvp_list.append(mvp_df)\n",
    "\n",
    "mvp_data = pd.concat(mvp_list)\n",
    "mvp_data.reset_index(drop=True)\n",
    "mvp_data.to_csv(f'MVP_data/mvp_awards.csv')"
   ]
  },
  {
   "attachments": {},
   "cell_type": "markdown",
   "metadata": {},
   "source": [
    "### Extracting ROY candidates from 2000-2023"
   ]
  },
  {
   "cell_type": "code",
   "execution_count": 26,
   "metadata": {},
   "outputs": [],
   "source": [
    "roy_list = []\n",
    "for year in years:\n",
    "    with open(f\"MVP_data/{year}.html\", errors=\"ignore\") as f:\n",
    "        page = f.read()\n",
    "\n",
    "        soup = BeautifulSoup(page, \"html.parser\")\n",
    "        remove_header = soup.find(\"tr\", class_='over_header').decompose()\n",
    "        roy_table = soup.find(id='roy')\n",
    "        roy_df = pd.read_html(str(roy_table),header=1)[0]\n",
    "        roy_df['Year'] = year\n",
    "        roy_list.append(roy_df)\n",
    "\n",
    "roy_data = pd.concat(roy_list)\n",
    "roy_data.reset_index(drop=True)\n",
    "roy_data.to_csv(f'MVP_data/roy_awards.csv')"
   ]
  },
  {
   "attachments": {},
   "cell_type": "markdown",
   "metadata": {},
   "source": [
    "### Extracting DPOY candidates from 2000-2023"
   ]
  },
  {
   "cell_type": "code",
   "execution_count": 45,
   "metadata": {},
   "outputs": [],
   "source": [
    "# Open each HTML file, parse out the table, create pandas dataframe\n",
    "dpoy_list = []\n",
    "for year in years:\n",
    "    with open(f'MVP_data/{year}.html', errors=\"ignore\") as f:\n",
    "        page = f.read()\n",
    "\n",
    "        soup = BeautifulSoup(page, \"html.parser\")\n",
    "        soupTables = BeautifulSoup(''.join(soup.find_all(string=lambda text: isinstance(text, Comment) and '<table' in text)))\n",
    "        soupTables.find(\"tr\", class_=\"over_header\").decompose()\n",
    "        dpoy_table = soupTables.find('table', id=\"dpoy\")\n",
    "        dpoy_df = pd.read_html(str(dpoy_table))[0]\n",
    "        dpoy_df['Year'] = year\n",
    "        dpoy_list.append(dpoy_df)\n",
    "\n",
    "dpoy_data = pd.concat(dpoy_list)\n",
    "dpoy_data.reset_index(drop=True)\n",
    "dpoy_data.to_csv('MVP_data/dpoy_awards.csv')"
   ]
  },
  {
   "attachments": {},
   "cell_type": "markdown",
   "metadata": {},
   "source": [
    "### Extracting SMOY candidates from 2000-2023"
   ]
  },
  {
   "cell_type": "code",
   "execution_count": 47,
   "metadata": {},
   "outputs": [],
   "source": [
    "smoy_list = []\n",
    "for year in years:\n",
    "    with open(f'MVP_data/{year}.html', errors=\"ignore\") as f:\n",
    "        page = f.read()\n",
    "\n",
    "        soup = BeautifulSoup(page, \"html.parser\")\n",
    "        soupTables = BeautifulSoup(''.join(soup.find_all(string=lambda text: isinstance(text, Comment) and '<table' in text)))\n",
    "        smoy_table = soupTables.find('table', id=\"smoy\")\n",
    "        smoy_df = pd.read_html(str(smoy_table), header=1)[0]\n",
    "        smoy_df['Year'] = year\n",
    "        smoy_list.append(smoy_df)\n",
    "\n",
    "smoy_data = pd.concat(smoy_list)\n",
    "smoy_data.reset_index(drop=True)\n",
    "smoy_data.to_csv('MVP_data/smoy_awards.csv')"
   ]
  },
  {
   "attachments": {},
   "cell_type": "markdown",
   "metadata": {},
   "source": [
    "### Using Selenium to extract player PPG, Advanced, and Team Record stats"
   ]
  },
  {
   "cell_type": "code",
   "execution_count": 46,
   "metadata": {},
   "outputs": [],
   "source": [
    "def stats_scraping(years, url, metric=\"\"):\n",
    "    '''\n",
    "    \n",
    "    '''\n",
    "\n",
    "    driver = webdriver.Chrome()\n",
    "    driver.maximize_window()\n",
    "\n",
    "    for year in years:\n",
    "        driver.get(url.format(year))\n",
    "        time.sleep(5)\n",
    "        pagesource = driver.page_source \n",
    "\n",
    "        with open(f'NBA_Stats/{metric}_{year}.html', 'w', encoding=\"utf-8\") as f:\n",
    "            f.write(pagesource)\n",
    "        print(f\"NBA Season {year} successfully saved.\")\n",
    "    "
   ]
  },
  {
   "attachments": {},
   "cell_type": "markdown",
   "metadata": {},
   "source": [
    "### Scraping Per Game stats"
   ]
  },
  {
   "cell_type": "code",
   "execution_count": 26,
   "metadata": {},
   "outputs": [
    {
     "name": "stdout",
     "output_type": "stream",
     "text": [
      "NBA Season 1984 successfully saved.\n",
      "NBA Season 1985 successfully saved.\n",
      "NBA Season 1986 successfully saved.\n",
      "NBA Season 1987 successfully saved.\n",
      "NBA Season 1988 successfully saved.\n",
      "NBA Season 1989 successfully saved.\n",
      "NBA Season 1990 successfully saved.\n",
      "NBA Season 1991 successfully saved.\n",
      "NBA Season 1992 successfully saved.\n",
      "NBA Season 1993 successfully saved.\n",
      "NBA Season 1994 successfully saved.\n",
      "NBA Season 1995 successfully saved.\n",
      "NBA Season 1996 successfully saved.\n",
      "NBA Season 1997 successfully saved.\n",
      "NBA Season 1998 successfully saved.\n",
      "NBA Season 1999 successfully saved.\n"
     ]
    }
   ],
   "source": [
    "stats_scraping(years, ppg_url, \"ppg\")"
   ]
  },
  {
   "attachments": {},
   "cell_type": "markdown",
   "metadata": {},
   "source": [
    "### Scraping Advanced stats"
   ]
  },
  {
   "cell_type": "code",
   "execution_count": 29,
   "metadata": {},
   "outputs": [
    {
     "name": "stdout",
     "output_type": "stream",
     "text": [
      "NBA Season 1984 successfully saved.\n",
      "NBA Season 1985 successfully saved.\n",
      "NBA Season 1986 successfully saved.\n",
      "NBA Season 1987 successfully saved.\n",
      "NBA Season 1988 successfully saved.\n",
      "NBA Season 1989 successfully saved.\n",
      "NBA Season 1990 successfully saved.\n",
      "NBA Season 1991 successfully saved.\n",
      "NBA Season 1992 successfully saved.\n",
      "NBA Season 1993 successfully saved.\n",
      "NBA Season 1994 successfully saved.\n",
      "NBA Season 1995 successfully saved.\n",
      "NBA Season 1996 successfully saved.\n",
      "NBA Season 1997 successfully saved.\n",
      "NBA Season 1998 successfully saved.\n",
      "NBA Season 1999 successfully saved.\n"
     ]
    }
   ],
   "source": [
    "stats_scraping(years, advanced_stats_url, \"advanced_stats\")"
   ]
  },
  {
   "attachments": {},
   "cell_type": "markdown",
   "metadata": {},
   "source": [
    "### Scraping Team Standing stats"
   ]
  },
  {
   "cell_type": "code",
   "execution_count": 37,
   "metadata": {},
   "outputs": [
    {
     "name": "stdout",
     "output_type": "stream",
     "text": [
      "NBA Season 1984 successfully saved.\n",
      "NBA Season 1985 successfully saved.\n",
      "NBA Season 1986 successfully saved.\n",
      "NBA Season 1987 successfully saved.\n",
      "NBA Season 1988 successfully saved.\n",
      "NBA Season 1989 successfully saved.\n",
      "NBA Season 1990 successfully saved.\n",
      "NBA Season 1991 successfully saved.\n",
      "NBA Season 1992 successfully saved.\n",
      "NBA Season 1993 successfully saved.\n",
      "NBA Season 1994 successfully saved.\n",
      "NBA Season 1995 successfully saved.\n",
      "NBA Season 1996 successfully saved.\n",
      "NBA Season 1997 successfully saved.\n",
      "NBA Season 1998 successfully saved.\n",
      "NBA Season 1999 successfully saved.\n"
     ]
    }
   ],
   "source": [
    "stats_scraping(years, standings_url, \"team_standings\")"
   ]
  },
  {
   "cell_type": "code",
   "execution_count": 48,
   "metadata": {},
   "outputs": [],
   "source": [
    "ppg_list = []\n",
    "for year in years:\n",
    "    with open(f'NBA_Stats/ppg_{year}.html', 'r', errors=\"ignore\") as f:\n",
    "        page = f.read()\n",
    "\n",
    "        soup = BeautifulSoup(page, \"html.parser\")\n",
    "        for item in soup.find_all(\"tr\", class_=\"thead\"):\n",
    "            item.decompose()\n",
    "        ppg_table = soup.find(id=\"per_game_stats\")\n",
    "        ppg_df = pd.read_html(str(ppg_table))[0]\n",
    "        ppg_df['Year'] = year\n",
    "        ppg_list.append(ppg_df)\n",
    "\n",
    "ppg_data = pd.concat(ppg_list)\n",
    "ppg_data.reset_index(drop=True)\n",
    "ppg_data.to_csv('NBA_Stats/ppg_data.csv')"
   ]
  },
  {
   "cell_type": "code",
   "execution_count": 49,
   "metadata": {},
   "outputs": [],
   "source": [
    "advanced_stats_list = []\n",
    "for year in years:\n",
    "    with open(f'NBA_Stats/advanced_stats_{year}.html', 'r', errors=\"ignore\") as f:\n",
    "        page = f.read()\n",
    "\n",
    "        soup = BeautifulSoup(page, \"html.parser\")\n",
    "        for item in soup.find_all(\"tr\", class_=\"thead\"):\n",
    "            item.decompose()\n",
    "        advanced_stats_table = soup.find(id=\"advanced_stats\")\n",
    "        advanced_stats_df = pd.read_html(str(advanced_stats_table))[0]\n",
    "        advanced_stats_df['Year'] = year\n",
    "        advanced_stats_list.append(advanced_stats_df)\n",
    "\n",
    "advanced_stats_data = pd.concat(advanced_stats_list)\n",
    "advanced_stats_data.reset_index(drop=True)\n",
    "advanced_stats_data.drop(columns=['Unnamed: 19','Unnamed: 24'], inplace=True)\n",
    "advanced_stats_data.to_csv('NBA_Stats/advanced_stats_data.csv')"
   ]
  },
  {
   "cell_type": "code",
   "execution_count": 53,
   "metadata": {},
   "outputs": [],
   "source": [
    "def rename_teams_long(col):\n",
    "    if col == \"Charlotte Bobcats\":\n",
    "        return \"Charlotte Hornets\"\n",
    "    if col == \"New Orleans Hornets\" or col == \"New Orleans/Oklahoma City Hornets\":\n",
    "        return \"New Orleans Pelicans\"\n",
    "    if col == \"New Jersey Nets\":\n",
    "        return \"Brooklyn Nets\"\n",
    "    if col == \"Washington Bullets\":\n",
    "        return \"Washington Wizards\"\n",
    "    if col == \"Kansas City Kings\":\n",
    "        return \"Sacramento Kings\"\n",
    "    if col == \"San Diego Clippers\":\n",
    "        return \"Los Angeles Clippers\"\n",
    "    else:\n",
    "        return col"
   ]
  },
  {
   "cell_type": "code",
   "execution_count": 51,
   "metadata": {},
   "outputs": [],
   "source": [
    "team_conference_dict = {\n",
    " 'Atlanta Hawks':'East',\n",
    " 'Boston Celtics':'East',\n",
    " 'Brooklyn Nets':'East',\n",
    " 'Charlotte Hornets':'East',\n",
    " 'Chicago Bulls':'East',\n",
    " 'Cleveland Cavaliers':'East',\n",
    " 'Dallas Mavericks':'West',\n",
    " 'Denver Nuggets':'West',\n",
    " 'Detroit Pistons':'East',\n",
    " 'Golden State Warriors':'West',\n",
    " 'Houston Rockets':'West',\n",
    " 'Indiana Pacers':'East',\n",
    " 'Los Angeles Clippers':'West',\n",
    " 'Los Angeles Lakers':'West',\n",
    " 'Memphis Grizzlies':'West',\n",
    " 'Miami Heat':'East',\n",
    " 'Milwaukee Bucks':'East',\n",
    " 'Minnesota Timberwolves':'West',\n",
    " 'New Orleans Pelicans':'West',\n",
    " 'New York Knicks':'East',\n",
    " 'Oklahoma City Thunder':'West',\n",
    " 'Orlando Magic':'East',\n",
    " 'Philadelphia 76ers':'East',\n",
    " 'Phoenix Suns':'West',\n",
    " 'Portland Trail Blazers':'West',\n",
    " 'Sacramento Kings':'West',\n",
    " 'San Antonio Spurs':'West',\n",
    " 'Seattle SuperSonics':'West',\n",
    " 'Toronto Raptors':'East',\n",
    " 'Utah Jazz':'West',\n",
    " 'Vancouver Grizzlies':'West',\n",
    " 'Washington Wizards':'East'}"
   ]
  },
  {
   "cell_type": "code",
   "execution_count": 93,
   "metadata": {},
   "outputs": [
    {
     "name": "stderr",
     "output_type": "stream",
     "text": [
      "C:\\Users\\Nguye\\AppData\\Local\\Temp\\ipykernel_27776\\3637571746.py:15: FutureWarning: The default value of regex will change from True to False in a future version. In addition, single character regular expressions will *not* be treated as literal strings when regex=True.\n",
      "  team_standings_df['Team'] = team_standings_df['Team'].str.replace('*','')\n",
      "C:\\Users\\Nguye\\AppData\\Local\\Temp\\ipykernel_27776\\3637571746.py:15: FutureWarning: The default value of regex will change from True to False in a future version. In addition, single character regular expressions will *not* be treated as literal strings when regex=True.\n",
      "  team_standings_df['Team'] = team_standings_df['Team'].str.replace('*','')\n",
      "C:\\Users\\Nguye\\AppData\\Local\\Temp\\ipykernel_27776\\3637571746.py:15: FutureWarning: The default value of regex will change from True to False in a future version. In addition, single character regular expressions will *not* be treated as literal strings when regex=True.\n",
      "  team_standings_df['Team'] = team_standings_df['Team'].str.replace('*','')\n",
      "C:\\Users\\Nguye\\AppData\\Local\\Temp\\ipykernel_27776\\3637571746.py:15: FutureWarning: The default value of regex will change from True to False in a future version. In addition, single character regular expressions will *not* be treated as literal strings when regex=True.\n",
      "  team_standings_df['Team'] = team_standings_df['Team'].str.replace('*','')\n",
      "C:\\Users\\Nguye\\AppData\\Local\\Temp\\ipykernel_27776\\3637571746.py:15: FutureWarning: The default value of regex will change from True to False in a future version. In addition, single character regular expressions will *not* be treated as literal strings when regex=True.\n",
      "  team_standings_df['Team'] = team_standings_df['Team'].str.replace('*','')\n",
      "C:\\Users\\Nguye\\AppData\\Local\\Temp\\ipykernel_27776\\3637571746.py:15: FutureWarning: The default value of regex will change from True to False in a future version. In addition, single character regular expressions will *not* be treated as literal strings when regex=True.\n",
      "  team_standings_df['Team'] = team_standings_df['Team'].str.replace('*','')\n",
      "C:\\Users\\Nguye\\AppData\\Local\\Temp\\ipykernel_27776\\3637571746.py:15: FutureWarning: The default value of regex will change from True to False in a future version. In addition, single character regular expressions will *not* be treated as literal strings when regex=True.\n",
      "  team_standings_df['Team'] = team_standings_df['Team'].str.replace('*','')\n",
      "C:\\Users\\Nguye\\AppData\\Local\\Temp\\ipykernel_27776\\3637571746.py:15: FutureWarning: The default value of regex will change from True to False in a future version. In addition, single character regular expressions will *not* be treated as literal strings when regex=True.\n",
      "  team_standings_df['Team'] = team_standings_df['Team'].str.replace('*','')\n",
      "C:\\Users\\Nguye\\AppData\\Local\\Temp\\ipykernel_27776\\3637571746.py:15: FutureWarning: The default value of regex will change from True to False in a future version. In addition, single character regular expressions will *not* be treated as literal strings when regex=True.\n",
      "  team_standings_df['Team'] = team_standings_df['Team'].str.replace('*','')\n",
      "C:\\Users\\Nguye\\AppData\\Local\\Temp\\ipykernel_27776\\3637571746.py:15: FutureWarning: The default value of regex will change from True to False in a future version. In addition, single character regular expressions will *not* be treated as literal strings when regex=True.\n",
      "  team_standings_df['Team'] = team_standings_df['Team'].str.replace('*','')\n",
      "C:\\Users\\Nguye\\AppData\\Local\\Temp\\ipykernel_27776\\3637571746.py:15: FutureWarning: The default value of regex will change from True to False in a future version. In addition, single character regular expressions will *not* be treated as literal strings when regex=True.\n",
      "  team_standings_df['Team'] = team_standings_df['Team'].str.replace('*','')\n",
      "C:\\Users\\Nguye\\AppData\\Local\\Temp\\ipykernel_27776\\3637571746.py:15: FutureWarning: The default value of regex will change from True to False in a future version. In addition, single character regular expressions will *not* be treated as literal strings when regex=True.\n",
      "  team_standings_df['Team'] = team_standings_df['Team'].str.replace('*','')\n",
      "C:\\Users\\Nguye\\AppData\\Local\\Temp\\ipykernel_27776\\3637571746.py:15: FutureWarning: The default value of regex will change from True to False in a future version. In addition, single character regular expressions will *not* be treated as literal strings when regex=True.\n",
      "  team_standings_df['Team'] = team_standings_df['Team'].str.replace('*','')\n",
      "C:\\Users\\Nguye\\AppData\\Local\\Temp\\ipykernel_27776\\3637571746.py:15: FutureWarning: The default value of regex will change from True to False in a future version. In addition, single character regular expressions will *not* be treated as literal strings when regex=True.\n",
      "  team_standings_df['Team'] = team_standings_df['Team'].str.replace('*','')\n",
      "C:\\Users\\Nguye\\AppData\\Local\\Temp\\ipykernel_27776\\3637571746.py:15: FutureWarning: The default value of regex will change from True to False in a future version. In addition, single character regular expressions will *not* be treated as literal strings when regex=True.\n",
      "  team_standings_df['Team'] = team_standings_df['Team'].str.replace('*','')\n",
      "C:\\Users\\Nguye\\AppData\\Local\\Temp\\ipykernel_27776\\3637571746.py:15: FutureWarning: The default value of regex will change from True to False in a future version. In addition, single character regular expressions will *not* be treated as literal strings when regex=True.\n",
      "  team_standings_df['Team'] = team_standings_df['Team'].str.replace('*','')\n",
      "C:\\Users\\Nguye\\AppData\\Local\\Temp\\ipykernel_27776\\3637571746.py:15: FutureWarning: The default value of regex will change from True to False in a future version. In addition, single character regular expressions will *not* be treated as literal strings when regex=True.\n",
      "  team_standings_df['Team'] = team_standings_df['Team'].str.replace('*','')\n",
      "C:\\Users\\Nguye\\AppData\\Local\\Temp\\ipykernel_27776\\3637571746.py:15: FutureWarning: The default value of regex will change from True to False in a future version. In addition, single character regular expressions will *not* be treated as literal strings when regex=True.\n",
      "  team_standings_df['Team'] = team_standings_df['Team'].str.replace('*','')\n",
      "C:\\Users\\Nguye\\AppData\\Local\\Temp\\ipykernel_27776\\3637571746.py:15: FutureWarning: The default value of regex will change from True to False in a future version. In addition, single character regular expressions will *not* be treated as literal strings when regex=True.\n",
      "  team_standings_df['Team'] = team_standings_df['Team'].str.replace('*','')\n",
      "C:\\Users\\Nguye\\AppData\\Local\\Temp\\ipykernel_27776\\3637571746.py:15: FutureWarning: The default value of regex will change from True to False in a future version. In addition, single character regular expressions will *not* be treated as literal strings when regex=True.\n",
      "  team_standings_df['Team'] = team_standings_df['Team'].str.replace('*','')\n",
      "C:\\Users\\Nguye\\AppData\\Local\\Temp\\ipykernel_27776\\3637571746.py:15: FutureWarning: The default value of regex will change from True to False in a future version. In addition, single character regular expressions will *not* be treated as literal strings when regex=True.\n",
      "  team_standings_df['Team'] = team_standings_df['Team'].str.replace('*','')\n",
      "C:\\Users\\Nguye\\AppData\\Local\\Temp\\ipykernel_27776\\3637571746.py:15: FutureWarning: The default value of regex will change from True to False in a future version. In addition, single character regular expressions will *not* be treated as literal strings when regex=True.\n",
      "  team_standings_df['Team'] = team_standings_df['Team'].str.replace('*','')\n",
      "C:\\Users\\Nguye\\AppData\\Local\\Temp\\ipykernel_27776\\3637571746.py:15: FutureWarning: The default value of regex will change from True to False in a future version. In addition, single character regular expressions will *not* be treated as literal strings when regex=True.\n",
      "  team_standings_df['Team'] = team_standings_df['Team'].str.replace('*','')\n",
      "C:\\Users\\Nguye\\AppData\\Local\\Temp\\ipykernel_27776\\3637571746.py:15: FutureWarning: The default value of regex will change from True to False in a future version. In addition, single character regular expressions will *not* be treated as literal strings when regex=True.\n",
      "  team_standings_df['Team'] = team_standings_df['Team'].str.replace('*','')\n",
      "C:\\Users\\Nguye\\AppData\\Local\\Temp\\ipykernel_27776\\3637571746.py:15: FutureWarning: The default value of regex will change from True to False in a future version. In addition, single character regular expressions will *not* be treated as literal strings when regex=True.\n",
      "  team_standings_df['Team'] = team_standings_df['Team'].str.replace('*','')\n",
      "C:\\Users\\Nguye\\AppData\\Local\\Temp\\ipykernel_27776\\3637571746.py:15: FutureWarning: The default value of regex will change from True to False in a future version. In addition, single character regular expressions will *not* be treated as literal strings when regex=True.\n",
      "  team_standings_df['Team'] = team_standings_df['Team'].str.replace('*','')\n",
      "C:\\Users\\Nguye\\AppData\\Local\\Temp\\ipykernel_27776\\3637571746.py:15: FutureWarning: The default value of regex will change from True to False in a future version. In addition, single character regular expressions will *not* be treated as literal strings when regex=True.\n",
      "  team_standings_df['Team'] = team_standings_df['Team'].str.replace('*','')\n",
      "C:\\Users\\Nguye\\AppData\\Local\\Temp\\ipykernel_27776\\3637571746.py:15: FutureWarning: The default value of regex will change from True to False in a future version. In addition, single character regular expressions will *not* be treated as literal strings when regex=True.\n",
      "  team_standings_df['Team'] = team_standings_df['Team'].str.replace('*','')\n",
      "C:\\Users\\Nguye\\AppData\\Local\\Temp\\ipykernel_27776\\3637571746.py:15: FutureWarning: The default value of regex will change from True to False in a future version. In addition, single character regular expressions will *not* be treated as literal strings when regex=True.\n",
      "  team_standings_df['Team'] = team_standings_df['Team'].str.replace('*','')\n",
      "C:\\Users\\Nguye\\AppData\\Local\\Temp\\ipykernel_27776\\3637571746.py:15: FutureWarning: The default value of regex will change from True to False in a future version. In addition, single character regular expressions will *not* be treated as literal strings when regex=True.\n",
      "  team_standings_df['Team'] = team_standings_df['Team'].str.replace('*','')\n",
      "C:\\Users\\Nguye\\AppData\\Local\\Temp\\ipykernel_27776\\3637571746.py:15: FutureWarning: The default value of regex will change from True to False in a future version. In addition, single character regular expressions will *not* be treated as literal strings when regex=True.\n",
      "  team_standings_df['Team'] = team_standings_df['Team'].str.replace('*','')\n",
      "C:\\Users\\Nguye\\AppData\\Local\\Temp\\ipykernel_27776\\3637571746.py:15: FutureWarning: The default value of regex will change from True to False in a future version. In addition, single character regular expressions will *not* be treated as literal strings when regex=True.\n",
      "  team_standings_df['Team'] = team_standings_df['Team'].str.replace('*','')\n",
      "C:\\Users\\Nguye\\AppData\\Local\\Temp\\ipykernel_27776\\3637571746.py:15: FutureWarning: The default value of regex will change from True to False in a future version. In addition, single character regular expressions will *not* be treated as literal strings when regex=True.\n",
      "  team_standings_df['Team'] = team_standings_df['Team'].str.replace('*','')\n",
      "C:\\Users\\Nguye\\AppData\\Local\\Temp\\ipykernel_27776\\3637571746.py:15: FutureWarning: The default value of regex will change from True to False in a future version. In addition, single character regular expressions will *not* be treated as literal strings when regex=True.\n",
      "  team_standings_df['Team'] = team_standings_df['Team'].str.replace('*','')\n",
      "C:\\Users\\Nguye\\AppData\\Local\\Temp\\ipykernel_27776\\3637571746.py:15: FutureWarning: The default value of regex will change from True to False in a future version. In addition, single character regular expressions will *not* be treated as literal strings when regex=True.\n",
      "  team_standings_df['Team'] = team_standings_df['Team'].str.replace('*','')\n",
      "C:\\Users\\Nguye\\AppData\\Local\\Temp\\ipykernel_27776\\3637571746.py:15: FutureWarning: The default value of regex will change from True to False in a future version. In addition, single character regular expressions will *not* be treated as literal strings when regex=True.\n",
      "  team_standings_df['Team'] = team_standings_df['Team'].str.replace('*','')\n",
      "C:\\Users\\Nguye\\AppData\\Local\\Temp\\ipykernel_27776\\3637571746.py:15: FutureWarning: The default value of regex will change from True to False in a future version. In addition, single character regular expressions will *not* be treated as literal strings when regex=True.\n",
      "  team_standings_df['Team'] = team_standings_df['Team'].str.replace('*','')\n",
      "C:\\Users\\Nguye\\AppData\\Local\\Temp\\ipykernel_27776\\3637571746.py:15: FutureWarning: The default value of regex will change from True to False in a future version. In addition, single character regular expressions will *not* be treated as literal strings when regex=True.\n",
      "  team_standings_df['Team'] = team_standings_df['Team'].str.replace('*','')\n",
      "C:\\Users\\Nguye\\AppData\\Local\\Temp\\ipykernel_27776\\3637571746.py:15: FutureWarning: The default value of regex will change from True to False in a future version. In addition, single character regular expressions will *not* be treated as literal strings when regex=True.\n",
      "  team_standings_df['Team'] = team_standings_df['Team'].str.replace('*','')\n",
      "C:\\Users\\Nguye\\AppData\\Local\\Temp\\ipykernel_27776\\3637571746.py:15: FutureWarning: The default value of regex will change from True to False in a future version. In addition, single character regular expressions will *not* be treated as literal strings when regex=True.\n",
      "  team_standings_df['Team'] = team_standings_df['Team'].str.replace('*','')\n"
     ]
    }
   ],
   "source": [
    "team_stats_list = []\n",
    "for year in years:\n",
    "    with open(f'NBA_Stats/team_standings_{year}.html', 'r', errors=\"ignore\") as f:\n",
    "        page = f.read()\n",
    "\n",
    "        # Create soup object\n",
    "        soup = BeautifulSoup(page, \"html.parser\")\n",
    "        soup.find(\"tr\", class_=\"over_header\").decompose()\n",
    "        # Find team standings data in HTML\n",
    "        team_standings_table = soup.find(id=\"advanced-team\")\n",
    "        team_standings_df = pd.read_html(str(team_standings_table))[0]\n",
    "        team_standings_df['Year'] = year\n",
    "        \n",
    "        # Clean team names and separate into east/west teams and add team seed\n",
    "        team_standings_df['Team'] = team_standings_df['Team'].str.replace('*','')\n",
    "        team_standings_df = team_standings_df[team_standings_df['Team'] != \"League Average\"]\n",
    "        team_standings_df['Team'] = team_standings_df['Team'].apply(rename_teams_long)\n",
    "        team_standings_df['Conference'] = team_standings_df['Team'].map(team_conference_dict)\n",
    "        \n",
    "        east_temp = team_standings_df[team_standings_df['Conference'] == 'East'].sort_values(by='W', ascending=False)\n",
    "        west_temp = team_standings_df[team_standings_df['Conference'] == 'West'].sort_values(by='W', ascending=False)\n",
    "        east_temp['Seed'] = list(range(1,len(east_temp)+1))\n",
    "        west_temp['Seed'] = list(range(1,len(west_temp)+1))\n",
    "\n",
    "        team_standings_df = pd.concat([east_temp, west_temp])\n",
    "\n",
    "        team_stats_list.append(team_standings_df)\n",
    "\n",
    "team_standings_data = pd.concat(team_stats_list)\n",
    "team_standings_data = team_standings_data[['Conference', 'Team', 'Seed', 'Age', 'W', 'L', 'PW', 'PL', 'MOV', 'SOS', 'SRS', 'ORtg',\n",
    "    'DRtg', 'NRtg', 'Pace', 'FTr', '3PAr', 'TS%', 'eFG%',\n",
    "    'TOV%', 'ORB%', 'FT/FGA', 'eFG%.1', 'TOV%.1', 'DRB%',\n",
    "    'FT/FGA.1', 'Year']]\n",
    "\n",
    "team_standings_data['W'] = team_standings_data['W'].astype('int64')\n",
    "team_standings_data['L'] = team_standings_data['L'].astype('int64')\n",
    "\n",
    "\n",
    "team_standings_data.reset_index(drop=True, inplace=True)\n",
    "team_standings_data.to_csv('NBA_Stats/team_standings.csv')\n",
    "\n"
   ]
  }
 ],
 "metadata": {
  "kernelspec": {
   "display_name": "myenv",
   "language": "python",
   "name": "python3"
  },
  "language_info": {
   "codemirror_mode": {
    "name": "ipython",
    "version": 3
   },
   "file_extension": ".py",
   "mimetype": "text/x-python",
   "name": "python",
   "nbconvert_exporter": "python",
   "pygments_lexer": "ipython3",
   "version": "3.10.11"
  },
  "orig_nbformat": 4
 },
 "nbformat": 4,
 "nbformat_minor": 2
}
